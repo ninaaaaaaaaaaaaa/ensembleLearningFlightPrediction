{
 "cells": [
  {
   "cell_type": "code",
   "execution_count": 1,
   "id": "5b664e94",
   "metadata": {},
   "outputs": [],
   "source": [
    "import matplotlib\n",
    "import matplotlib.pyplot as plt \n",
    "import pandas as pd \n",
    "import numpy as np\n",
    "import seaborn as sns\n",
    "from sklearn.preprocessing import LabelEncoder\n",
    "from sklearn.model_selection import train_test_split, GridSearchCV, RepeatedKFold\n",
    "from sklearn.preprocessing import StandardScaler\n",
    "from sklearn.metrics import classification_report, accuracy_score, f1_score, recall_score, precision_score, confusion_matrix, mean_absolute_percentage_error\n",
    "\n"
   ]
  },
  {
   "cell_type": "code",
   "execution_count": 2,
   "id": "37cbc6e6",
   "metadata": {},
   "outputs": [
    {
     "name": "stdout",
     "output_type": "stream",
     "text": [
      "    airline   flight source_city departure_time stops   arrival_time  \\\n",
      "0  SpiceJet  SG-8709       Delhi        Evening  zero          Night   \n",
      "1  SpiceJet  SG-8157       Delhi  Early_Morning  zero        Morning   \n",
      "2   AirAsia   I5-764       Delhi  Early_Morning  zero  Early_Morning   \n",
      "3   Vistara   UK-995       Delhi        Morning  zero      Afternoon   \n",
      "4   Vistara   UK-963       Delhi        Morning  zero        Morning   \n",
      "\n",
      "  destination_city    class  duration  days_left  price  airline_label  \\\n",
      "0           Mumbai  Economy      2.17          1   5953              4   \n",
      "1           Mumbai  Economy      2.33          1   5953              4   \n",
      "2           Mumbai  Economy      2.17          1   5956              0   \n",
      "3           Mumbai  Economy      2.25          1   5955              5   \n",
      "4           Mumbai  Economy      2.33          1   5955              5   \n",
      "\n",
      "   source_city_label  destination_city_label  departure_time_label  \\\n",
      "0                  2                       5                     3   \n",
      "1                  2                       5                     0   \n",
      "2                  2                       5                     0   \n",
      "3                  2                       5                     1   \n",
      "4                  2                       5                     1   \n",
      "\n",
      "   arrival_time_label  stops_label  \n",
      "0                   4            0  \n",
      "1                   1            0  \n",
      "2                   0            0  \n",
      "3                   2            0  \n",
      "4                   1            0  \n"
     ]
    }
   ],
   "source": [
    "data = pd.read_csv ('/Users/nina/Downloads/mlproject/data/Clean_Dataset.csv')\n",
    "# drop index column and check the datatype\n",
    "data = data.drop(['Unnamed: 0'], axis=1)\n",
    "# label encode three categorical columns\n",
    "le = LabelEncoder()\n",
    "data[\"airline_label\"] = le.fit_transform(data['airline'])\n",
    "data[\"source_city_label\"] = le.fit_transform(data['source_city'])\n",
    "data[\"destination_city_label\"] = le.fit_transform(data['destination_city'])\n",
    "# category time and stops according to sequence\n",
    "\n",
    "def time_label(value):\n",
    "    if value == \"Early_Morning\":\n",
    "        return 0\n",
    "    elif value == \"Morning\":\n",
    "        return 1\n",
    "    elif value == \"Afternoon\":\n",
    "        return 2\n",
    "    elif value == \"Evening\":\n",
    "        return 3\n",
    "    elif value == \"Night\":\n",
    "        return 4\n",
    "    elif value == \"Late_Night\":\n",
    "        return 5\n",
    "\n",
    "def stops_label(value):\n",
    "    if value == \"zero\":\n",
    "        return 0\n",
    "    elif value == \"one\":\n",
    "        return 1\n",
    "    elif value == \"two_or_more\":\n",
    "        return 2\n",
    "    \n",
    "\n",
    "data['departure_time_label'] = data['departure_time'].map(time_label)\n",
    "data['arrival_time_label'] = data['arrival_time'].map(time_label)\n",
    "data['stops_label'] = data['stops'].map(stops_label)\n",
    "\n",
    "# Split Dataframe using groupby()\n",
    "# grouping by economy and business class\n",
    "data['class_label'] = np.where(data['class'] == \"Economy\", True, False)\n",
    "grouped = data.groupby(data.class_label)\n",
    "economyData = grouped.get_group(True)\n",
    "economyData=economyData.drop(['class_label'],axis=1)\n",
    "print(economyData.head())\n",
    "data=economyData.drop(['airline', 'flight', 'source_city','departure_time','stops','arrival_time', 'destination_city','class'],axis=1)\n"
   ]
  },
  {
   "cell_type": "code",
   "execution_count": 3,
   "id": "91fac160",
   "metadata": {},
   "outputs": [
    {
     "name": "stdout",
     "output_type": "stream",
     "text": [
      "   duration  days_left  airline_label  source_city_label  \\\n",
      "0      2.17          1              4                  2   \n",
      "1      2.33          1              4                  2   \n",
      "2      2.17          1              0                  2   \n",
      "3      2.25          1              5                  2   \n",
      "4      2.33          1              5                  2   \n",
      "\n",
      "   destination_city_label  departure_time_label  arrival_time_label  \\\n",
      "0                       5                     3                   4   \n",
      "1                       5                     0                   1   \n",
      "2                       5                     0                   0   \n",
      "3                       5                     1                   2   \n",
      "4                       5                     1                   1   \n",
      "\n",
      "   stops_label  \n",
      "0            0  \n",
      "1            0  \n",
      "2            0  \n",
      "3            0  \n",
      "4            0  \n",
      "   price\n",
      "0   5953\n",
      "1   5953\n",
      "2   5956\n",
      "3   5955\n",
      "4   5955\n"
     ]
    }
   ],
   "source": [
    "X=data.drop(['price'],axis=1)\n",
    "y=data[['price']]\n",
    "Train_X, Test_X, Train_Y, Test_Y = train_test_split(X, y, train_size=0.8, test_size=0.2, random_state = 42)\n",
    "rav_train_Y = np.ravel(Train_Y)\n",
    "rav_test_Y = np.ravel(Test_Y)\n",
    "print(X.head())\n",
    "print(y.head())"
   ]
  },
  {
   "cell_type": "markdown",
   "id": "ee3b6581",
   "metadata": {},
   "source": [
    "# models"
   ]
  },
  {
   "cell_type": "code",
   "execution_count": 4,
   "id": "70c36a5c",
   "metadata": {},
   "outputs": [],
   "source": [
    "from sklearn.linear_model import Ridge\n",
    "from sklearn.linear_model import Lasso\n",
    "from sklearn.linear_model import ElasticNet\n",
    "from sklearn.linear_model import LinearRegression\n",
    "from sklearn.linear_model import BayesianRidge\n",
    "from sklearn.svm import SVR\n",
    "from sklearn.tree import DecisionTreeRegressor\n",
    "from sklearn.ensemble import RandomForestRegressor"
   ]
  },
  {
   "cell_type": "code",
   "execution_count": 5,
   "id": "0e41a6f1",
   "metadata": {},
   "outputs": [
    {
     "name": "stdout",
     "output_type": "stream",
     "text": [
      "Negative MAPE: - 0.36838702384428623\n"
     ]
    }
   ],
   "source": [
    "Ridge_model = Ridge()\n",
    "\n",
    "Ridge_model.fit(Train_X, Train_Y)\n",
    "\n",
    "y_pred_ridge = Ridge_model.predict(Test_X)\n",
    "\n",
    "ridge_mape = mean_absolute_percentage_error(Test_Y, y_pred_ridge)\n",
    "\n",
    "print('Negative MAPE: -' , y_pred_ridge)"
   ]
  },
  {
   "cell_type": "code",
   "execution_count": 6,
   "id": "dd668e1a",
   "metadata": {},
   "outputs": [
    {
     "name": "stdout",
     "output_type": "stream",
     "text": [
      "Negative MAPE: - 0.36836396755014034\n"
     ]
    }
   ],
   "source": [
    "Lasso_model = Lasso()\n",
    "\n",
    "Lasso_model.fit(Train_X, Train_Y)\n",
    "\n",
    "y_pred_Lasso = Lasso_model.predict(Test_X)\n",
    "\n",
    "Lasso_mape = mean_absolute_percentage_error(Test_Y, y_pred_Lasso)\n",
    "\n",
    "print('Negative MAPE: -' , Lasso_mape)"
   ]
  },
  {
   "cell_type": "code",
   "execution_count": 9,
   "id": "f62a9f71",
   "metadata": {},
   "outputs": [
    {
     "name": "stdout",
     "output_type": "stream",
     "text": [
      "Negative MAPE: - 0.37407777647917334\n"
     ]
    }
   ],
   "source": [
    "ElasticNet_model = ElasticNet()\n",
    "\n",
    "ElasticNet_model.fit(Train_X, Train_Y)\n",
    "\n",
    "y_pred_Elastic = ElasticNet_model.predict(Test_X)\n",
    "\n",
    "elastic_mape = mean_absolute_percentage_error(Test_Y, y_pred_Elastic)\n",
    "\n",
    "print('Negative MAPE: -' , elastic_mape)"
   ]
  },
  {
   "cell_type": "code",
   "execution_count": 15,
   "id": "c3845f1c",
   "metadata": {},
   "outputs": [
    {
     "name": "stdout",
     "output_type": "stream",
     "text": [
      "Negative MAPE: - 0.08899790671833943\n"
     ]
    }
   ],
   "source": [
    "DecisionTree_model = DecisionTreeRegressor()\n",
    "\n",
    "DecisionTree_model.fit(Train_X, Train_Y)\n",
    "\n",
    "y_pred_DecisionTree = DecisionTree_model.predict(Test_X)\n",
    "\n",
    "decisionTree_mape = mean_absolute_percentage_error(Test_Y, y_pred_DecisionTree)\n",
    "\n",
    "print('Negative MAPE: -' , decisionTree_mape)"
   ]
  },
  {
   "cell_type": "code",
   "execution_count": 11,
   "id": "eacb7431",
   "metadata": {},
   "outputs": [
    {
     "name": "stderr",
     "output_type": "stream",
     "text": [
      "/var/folders/89/l5mflds54db0j349t77r_gvm0000gn/T/ipykernel_62338/3831555691.py:3: DataConversionWarning: A column-vector y was passed when a 1d array was expected. Please change the shape of y to (n_samples,), for example using ravel().\n",
      "  RandomForest_model.fit(Train_X, Train_Y)\n"
     ]
    },
    {
     "name": "stdout",
     "output_type": "stream",
     "text": [
      "Negative MAPE: - 0.08473876432575116\n"
     ]
    }
   ],
   "source": [
    "RandomForest_model = RandomForestRegressor()\n",
    "\n",
    "RandomForest_model.fit(Train_X, Train_Y)\n",
    "\n",
    "y_pred_randomForest = RandomForest_model.predict(Test_X)\n",
    "\n",
    "randomForest_mape = mean_absolute_percentage_error(Test_Y, y_pred_randomForest)\n",
    "\n",
    "print('Negative MAPE: -' , randomForest_mape)"
   ]
  },
  {
   "cell_type": "code",
   "execution_count": 12,
   "id": "9cab9e63",
   "metadata": {},
   "outputs": [
    {
     "name": "stdout",
     "output_type": "stream",
     "text": [
      "Negative MAPE: - 0.3683813024091547\n"
     ]
    },
    {
     "name": "stderr",
     "output_type": "stream",
     "text": [
      "/Users/nina/opt/anaconda3/envs/tensorflow/lib/python3.10/site-packages/sklearn/utils/validation.py:1143: DataConversionWarning: A column-vector y was passed when a 1d array was expected. Please change the shape of y to (n_samples, ), for example using ravel().\n",
      "  y = column_or_1d(y, warn=True)\n"
     ]
    }
   ],
   "source": [
    "BayesianRidge_model = BayesianRidge()\n",
    "\n",
    "BayesianRidge_model.fit(Train_X, Train_Y)\n",
    "\n",
    "y_pred_BayesianRidge = BayesianRidge_model.predict(Test_X)\n",
    "\n",
    "BayesianRidge_mape = mean_absolute_percentage_error(Test_Y, y_pred_BayesianRidge)\n",
    "\n",
    "print('Negative MAPE: -' , BayesianRidge_mape)"
   ]
  },
  {
   "cell_type": "code",
   "execution_count": 13,
   "id": "e22961b6",
   "metadata": {},
   "outputs": [
    {
     "name": "stderr",
     "output_type": "stream",
     "text": [
      "/Users/nina/opt/anaconda3/envs/tensorflow/lib/python3.10/site-packages/sklearn/utils/validation.py:1143: DataConversionWarning: A column-vector y was passed when a 1d array was expected. Please change the shape of y to (n_samples, ), for example using ravel().\n",
      "  y = column_or_1d(y, warn=True)\n"
     ]
    },
    {
     "name": "stdout",
     "output_type": "stream",
     "text": [
      "Negative MAPE: - 0.5350788691803386\n"
     ]
    }
   ],
   "source": [
    "from sklearn.ensemble import AdaBoostRegressor\n",
    "adaBoost = AdaBoostRegressor()\n",
    "\n",
    "adaBoost.fit(Train_X, Train_Y)\n",
    "\n",
    "y_pred_adaBoost = adaBoost.predict(Test_X)\n",
    "\n",
    "adaBoost_mape = mean_absolute_percentage_error(Test_Y, y_pred_adaBoost)\n",
    "\n",
    "print('Negative MAPE: -' , adaBoost_mape)"
   ]
  },
  {
   "cell_type": "code",
   "execution_count": 19,
   "id": "5fbdb387",
   "metadata": {},
   "outputs": [
    {
     "name": "stdout",
     "output_type": "stream",
     "text": [
      "Negative MAPE: - 0.08823164721758261\n"
     ]
    }
   ],
   "source": [
    "from sklearn.ensemble import BaggingRegressor\n",
    "\n",
    "bagging = BaggingRegressor()\n",
    "\n",
    "bagging.fit(Train_X, rav_train_Y)\n",
    "\n",
    "y_pred_bagging = bagging.predict(Test_X)\n",
    "\n",
    "bagging_mape = mean_absolute_percentage_error(Test_Y, y_pred_bagging)\n",
    "\n",
    "print('Negative MAPE: -' , bagging_mape)"
   ]
  },
  {
   "cell_type": "code",
   "execution_count": 18,
   "id": "b1bd0e16",
   "metadata": {},
   "outputs": [
    {
     "name": "stdout",
     "output_type": "stream",
     "text": [
      "Negative MAPE: - 0.09367492055711514\n"
     ]
    }
   ],
   "source": [
    "from sklearn.ensemble import ExtraTreesRegressor\n",
    "\n",
    "exTree = ExtraTreesRegressor()\n",
    "\n",
    "exTree.fit(Train_X, rav_train_Y)\n",
    "\n",
    "y_pred_exTree = exTree.predict(Test_X)\n",
    "\n",
    "exTree_mape = mean_absolute_percentage_error(Test_Y, y_pred_exTree)\n",
    "\n",
    "print('Negative MAPE: -' , exTree_mape)"
   ]
  },
  {
   "cell_type": "code",
   "execution_count": 14,
   "id": "b732617b",
   "metadata": {},
   "outputs": [
    {
     "name": "stdout",
     "output_type": "stream",
     "text": [
      "Negative MAPE: - 0.1619964439386442\n"
     ]
    }
   ],
   "source": [
    "import xgboost as xgb \n",
    "xg_reg_model = xgb.XGBRegressor()\n",
    "\n",
    "xg_reg_model.fit(Train_X, Train_Y)\n",
    "\n",
    "y_pred_xg = xg_reg_model.predict(Test_X)\n",
    "\n",
    "xgb_mape = mean_absolute_percentage_error(Test_Y, y_pred_xg)\n",
    "\n",
    "print('Negative MAPE: -' , xgb_mape)"
   ]
  },
  {
   "cell_type": "code",
   "execution_count": null,
   "id": "8dd077ad",
   "metadata": {},
   "outputs": [],
   "source": []
  },
  {
   "cell_type": "code",
   "execution_count": null,
   "id": "bbebd73d",
   "metadata": {},
   "outputs": [],
   "source": []
  },
  {
   "cell_type": "code",
   "execution_count": null,
   "id": "97235393",
   "metadata": {},
   "outputs": [],
   "source": []
  }
 ],
 "metadata": {
  "kernelspec": {
   "display_name": "Python 3 (ipykernel)",
   "language": "python",
   "name": "python3"
  },
  "language_info": {
   "codemirror_mode": {
    "name": "ipython",
    "version": 3
   },
   "file_extension": ".py",
   "mimetype": "text/x-python",
   "name": "python",
   "nbconvert_exporter": "python",
   "pygments_lexer": "ipython3",
   "version": "3.9.13"
  }
 },
 "nbformat": 4,
 "nbformat_minor": 5
}
