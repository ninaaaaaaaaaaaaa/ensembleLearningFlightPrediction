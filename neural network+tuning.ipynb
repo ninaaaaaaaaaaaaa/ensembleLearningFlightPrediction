{
 "cells": [
  {
   "cell_type": "code",
   "execution_count": 1,
   "id": "a9933147",
   "metadata": {},
   "outputs": [],
   "source": [
    "import matplotlib\n",
    "import matplotlib.pyplot as plt \n",
    "import pandas as pd \n",
    "import numpy as np\n",
    "import seaborn as sns\n",
    "from sklearn.preprocessing import LabelEncoder\n",
    "from sklearn.model_selection import train_test_split, GridSearchCV, RepeatedKFold\n",
    "from sklearn.preprocessing import StandardScaler\n",
    "from sklearn.metrics import classification_report, accuracy_score, f1_score, recall_score, precision_score, confusion_matrix, mean_absolute_percentage_error\n",
    "\n"
   ]
  },
  {
   "cell_type": "code",
   "execution_count": 2,
   "id": "4f81582b",
   "metadata": {},
   "outputs": [],
   "source": [
    "data = pd.read_csv ('/Users/nina/Downloads/mlproject/data/Clean_Dataset.csv')\n",
    "# drop index column and check the datatype\n",
    "data = data.drop(['Unnamed: 0'], axis=1)\n"
   ]
  },
  {
   "cell_type": "code",
   "execution_count": 3,
   "id": "88f13a4e",
   "metadata": {},
   "outputs": [],
   "source": [
    "# label encode three categorical columns\n",
    "le = LabelEncoder()\n",
    "data[\"airline_label\"] = le.fit_transform(data['airline'])\n",
    "data[\"source_city_label\"] = le.fit_transform(data['source_city'])\n",
    "data[\"destination_city_label\"] = le.fit_transform(data['destination_city'])"
   ]
  },
  {
   "cell_type": "code",
   "execution_count": 4,
   "id": "ede66ce2",
   "metadata": {},
   "outputs": [],
   "source": [
    "# category time and stops according to sequence\n",
    "\n",
    "def time_label(value):\n",
    "    if value == \"Early_Morning\":\n",
    "        return 0\n",
    "    elif value == \"Morning\":\n",
    "        return 1\n",
    "    elif value == \"Afternoon\":\n",
    "        return 2\n",
    "    elif value == \"Evening\":\n",
    "        return 3\n",
    "    elif value == \"Night\":\n",
    "        return 4\n",
    "    elif value == \"Late_Night\":\n",
    "        return 5\n",
    "\n",
    "def stops_label(value):\n",
    "    if value == \"zero\":\n",
    "        return 0\n",
    "    elif value == \"one\":\n",
    "        return 1\n",
    "    elif value == \"two_or_more\":\n",
    "        return 2\n",
    "    \n",
    "\n",
    "data['departure_time_label'] = data['departure_time'].map(time_label)\n",
    "data['arrival_time_label'] = data['arrival_time'].map(time_label)\n",
    "data['stops_label'] = data['stops'].map(stops_label)"
   ]
  },
  {
   "cell_type": "code",
   "execution_count": 5,
   "id": "7ccecc75",
   "metadata": {},
   "outputs": [
    {
     "name": "stdout",
     "output_type": "stream",
     "text": [
      "    airline   flight source_city departure_time stops   arrival_time  \\\n",
      "0  SpiceJet  SG-8709       Delhi        Evening  zero          Night   \n",
      "1  SpiceJet  SG-8157       Delhi  Early_Morning  zero        Morning   \n",
      "2   AirAsia   I5-764       Delhi  Early_Morning  zero  Early_Morning   \n",
      "3   Vistara   UK-995       Delhi        Morning  zero      Afternoon   \n",
      "4   Vistara   UK-963       Delhi        Morning  zero        Morning   \n",
      "\n",
      "  destination_city    class  duration  days_left  price  airline_label  \\\n",
      "0           Mumbai  Economy      2.17          1   5953              4   \n",
      "1           Mumbai  Economy      2.33          1   5953              4   \n",
      "2           Mumbai  Economy      2.17          1   5956              0   \n",
      "3           Mumbai  Economy      2.25          1   5955              5   \n",
      "4           Mumbai  Economy      2.33          1   5955              5   \n",
      "\n",
      "   source_city_label  destination_city_label  departure_time_label  \\\n",
      "0                  2                       5                     3   \n",
      "1                  2                       5                     0   \n",
      "2                  2                       5                     0   \n",
      "3                  2                       5                     1   \n",
      "4                  2                       5                     1   \n",
      "\n",
      "   arrival_time_label  stops_label  \n",
      "0                   4            0  \n",
      "1                   1            0  \n",
      "2                   0            0  \n",
      "3                   2            0  \n",
      "4                   1            0  \n"
     ]
    }
   ],
   "source": [
    "# Split Dataframe using groupby()\n",
    "# grouping by economy and business class\n",
    "data['class_label'] = np.where(data['class'] == \"Economy\", True, False)\n",
    "grouped = data.groupby(data.class_label)\n",
    "economyData = grouped.get_group(True)\n",
    "economyData=economyData.drop(['class_label'],axis=1)\n",
    "print(economyData.head())\n",
    "data=economyData.drop(['airline', 'flight', 'source_city','departure_time','stops','arrival_time', 'destination_city','class'],axis=1)\n"
   ]
  },
  {
   "cell_type": "code",
   "execution_count": 6,
   "id": "15129882",
   "metadata": {},
   "outputs": [
    {
     "name": "stdout",
     "output_type": "stream",
     "text": [
      "   duration  days_left  airline_label  source_city_label  \\\n",
      "0      2.17          1              4                  2   \n",
      "1      2.33          1              4                  2   \n",
      "2      2.17          1              0                  2   \n",
      "3      2.25          1              5                  2   \n",
      "4      2.33          1              5                  2   \n",
      "\n",
      "   destination_city_label  departure_time_label  arrival_time_label  \\\n",
      "0                       5                     3                   4   \n",
      "1                       5                     0                   1   \n",
      "2                       5                     0                   0   \n",
      "3                       5                     1                   2   \n",
      "4                       5                     1                   1   \n",
      "\n",
      "   stops_label  \n",
      "0            0  \n",
      "1            0  \n",
      "2            0  \n",
      "3            0  \n",
      "4            0  \n",
      "   price\n",
      "0   5953\n",
      "1   5953\n",
      "2   5956\n",
      "3   5955\n",
      "4   5955\n"
     ]
    }
   ],
   "source": [
    "X=data.drop(['price'],axis=1)\n",
    "y=data[['price']]\n",
    "Train_X, Test_X, Train_Y, Test_Y = train_test_split(X, y, train_size=0.8, test_size=0.2, random_state = 42)\n",
    "rav_train_Y = np.ravel(Train_Y)\n",
    "rav_test_Y = np.ravel(Test_Y)\n",
    "print(X.head())\n",
    "print(y.head())"
   ]
  },
  {
   "cell_type": "markdown",
   "id": "15ffeed5",
   "metadata": {},
   "source": [
    "# one layer neural network"
   ]
  },
  {
   "cell_type": "code",
   "execution_count": 11,
   "id": "2ce90b90",
   "metadata": {},
   "outputs": [
    {
     "name": "stdout",
     "output_type": "stream",
     "text": [
      "Epoch 1/10\n",
      "5167/5167 [==============================] - 1s 261us/step - loss: 96.8217 - accuracy: 0.0000e+00\n",
      "Epoch 2/10\n",
      "5167/5167 [==============================] - 1s 256us/step - loss: 91.3029 - accuracy: 0.0000e+00\n",
      "Epoch 3/10\n",
      "5167/5167 [==============================] - 1s 258us/step - loss: 85.7770 - accuracy: 0.0000e+00\n",
      "Epoch 4/10\n",
      "5167/5167 [==============================] - 1s 265us/step - loss: 80.2845 - accuracy: 0.0000e+00\n",
      "Epoch 5/10\n",
      "5167/5167 [==============================] - 1s 255us/step - loss: 74.8422 - accuracy: 0.0000e+00\n",
      "Epoch 6/10\n",
      "5167/5167 [==============================] - 1s 255us/step - loss: 69.5534 - accuracy: 0.0000e+00\n",
      "Epoch 7/10\n",
      "5167/5167 [==============================] - 1s 254us/step - loss: 64.6540 - accuracy: 0.0000e+00\n",
      "Epoch 8/10\n",
      "5167/5167 [==============================] - 1s 253us/step - loss: 60.2333 - accuracy: 0.0000e+00\n",
      "Epoch 9/10\n",
      "5167/5167 [==============================] - 1s 256us/step - loss: 56.3186 - accuracy: 0.0000e+00\n",
      "Epoch 10/10\n",
      "5167/5167 [==============================] - 1s 258us/step - loss: 52.9549 - accuracy: 0.0000e+00\n"
     ]
    },
    {
     "data": {
      "text/plain": [
       "<keras.callbacks.History at 0x299be6d70>"
      ]
     },
     "execution_count": 11,
     "metadata": {},
     "output_type": "execute_result"
    }
   ],
   "source": [
    "from tensorflow.keras import Model, Sequential\n",
    "from tensorflow.keras.layers import Dense, Input \n",
    "import tensorflow as tf\n",
    "from sklearn.metrics import accuracy_score, f1_score, recall_score, precision_score\n",
    "\n",
    "# one layer neural network\n",
    "model = Sequential()\n",
    "\n",
    "model.add(Dense(1, input_dim=8, activation='relu'))\n",
    "\n",
    "# Define the optimizer\n",
    "optimizer = tf.keras.optimizers.Adam()\n",
    "\n",
    "# Compile the model\n",
    "model.compile(optimizer=optimizer, loss='mean_absolute_percentage_error', metrics=['accuracy'])\n",
    "\n",
    "# Train the model for 10 epochs\n",
    "model.fit(Train_X, Train_Y, epochs=10)\n",
    "\n"
   ]
  },
  {
   "cell_type": "code",
   "execution_count": 15,
   "id": "ee876bbd",
   "metadata": {},
   "outputs": [
    {
     "name": "stdout",
     "output_type": "stream",
     "text": [
      "1292/1292 [==============================] - 0s 230us/step\n",
      "One-layer model evaluation metrics:\n",
      "negative mape: - 0.5164\n"
     ]
    }
   ],
   "source": [
    "# Predict the classes for the test set using the trained model\n",
    "onelayer_y_pred = model.predict(Test_X)\n",
    "\n",
    "# Define the MAPE loss function\n",
    "def mape(y_true, y_pred):\n",
    "    return tf.reduce_mean(tf.abs((y_true - y_pred) / y_true))\n",
    "\n",
    "# Calculate the MAPE\n",
    "onelayer_mape_value = mape(Test_Y, onelayer_y_pred).numpy()\n",
    "\n",
    "print(\"One-layer model evaluation metrics:\")\n",
    "print(\"negative mape: - {:.4f}\".format(onelayer_mape_value))\n"
   ]
  },
  {
   "cell_type": "markdown",
   "id": "ffc3b699",
   "metadata": {},
   "source": [
    "# grid search 3 layer"
   ]
  },
  {
   "cell_type": "code",
   "execution_count": 16,
   "id": "ca52ab62",
   "metadata": {},
   "outputs": [],
   "source": [
    "# Define the 3-layer neural network model\n",
    "def create_model(n_hidden1, n_hidden2, n_hidden3, learning_rate):\n",
    "    model = tf.keras.Sequential([\n",
    "        tf.keras.layers.Dense(units=n_hidden1, input_dim=8, activation='relu'),\n",
    "        tf.keras.layers.Dense(units=n_hidden2, activation='relu'),\n",
    "        tf.keras.layers.Dense(units=n_hidden3, activation='relu'),\n",
    "        tf.keras.layers.Dense(units=1, activation='linear')\n",
    "    ])\n",
    "    optimizer = tf.keras.optimizers.Adam(learning_rate=learning_rate)\n",
    "    model.compile(optimizer=optimizer, loss=mape)\n",
    "    return model"
   ]
  },
  {
   "cell_type": "code",
   "execution_count": 20,
   "id": "0f3c395e",
   "metadata": {},
   "outputs": [],
   "source": [
    "# Define the parameter grid for the grid search\n",
    "param_grid = {\n",
    "    'n_hidden1': [64, 128],\n",
    "    'n_hidden2': [64, 128],\n",
    "    'n_hidden3': [64, 128],\n",
    "    'learning_rate': [ 0.01, 0.1]\n",
    "}"
   ]
  },
  {
   "cell_type": "code",
   "execution_count": 23,
   "id": "2127c90a",
   "metadata": {},
   "outputs": [
    {
     "name": "stderr",
     "output_type": "stream",
     "text": [
      "/var/folders/89/l5mflds54db0j349t77r_gvm0000gn/T/ipykernel_61630/1819228408.py:2: DeprecationWarning: KerasRegressor is deprecated, use Sci-Keras (https://github.com/adriangb/scikeras) instead. See https://www.adriangb.com/scikeras/stable/migration.html for help migrating.\n",
      "  model = tf.keras.wrappers.scikit_learn.KerasRegressor(build_fn=create_model, verbose=0)\n"
     ]
    },
    {
     "name": "stdout",
     "output_type": "stream",
     "text": [
      "Best negative MAPE: - 0.25448765357335407\n",
      "Best parameters: {'learning_rate': 0.01, 'n_hidden1': 64, 'n_hidden2': 128, 'n_hidden3': 128}\n"
     ]
    }
   ],
   "source": [
    "# Create the KerasRegressor wrapper for use with scikit-learn\n",
    "model = tf.keras.wrappers.scikit_learn.KerasRegressor(build_fn=create_model, verbose=0)\n",
    "\n",
    "# Define the grid search object\n",
    "grid_search = GridSearchCV(estimator=model, param_grid=param_grid,  cv=3)\n",
    "\n",
    "# Perform the grid search\n",
    "grid_result = grid_search.fit(Train_X.astype(np.float64), Train_Y.astype(np.float64))\n",
    "\n",
    "# Print the results\n",
    "print('Best negative MAPE: -', np.abs(grid_result.best_score_))\n",
    "print('Best parameters:', grid_result.best_params_)\n"
   ]
  },
  {
   "cell_type": "code",
   "execution_count": null,
   "id": "bbbf5842",
   "metadata": {},
   "outputs": [],
   "source": []
  }
 ],
 "metadata": {
  "kernelspec": {
   "display_name": "Python 3 (ipykernel)",
   "language": "python",
   "name": "python3"
  },
  "language_info": {
   "codemirror_mode": {
    "name": "ipython",
    "version": 3
   },
   "file_extension": ".py",
   "mimetype": "text/x-python",
   "name": "python",
   "nbconvert_exporter": "python",
   "pygments_lexer": "ipython3",
   "version": "3.10.10"
  }
 },
 "nbformat": 4,
 "nbformat_minor": 5
}
