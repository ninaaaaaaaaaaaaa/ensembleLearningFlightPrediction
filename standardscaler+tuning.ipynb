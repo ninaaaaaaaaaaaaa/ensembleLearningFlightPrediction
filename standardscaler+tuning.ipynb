{
 "cells": [
  {
   "cell_type": "code",
   "execution_count": 32,
   "id": "e6d01495",
   "metadata": {},
   "outputs": [],
   "source": [
    "import matplotlib\n",
    "import matplotlib.pyplot as plt \n",
    "import pandas as pd \n",
    "import numpy as np\n",
    "import seaborn as sns\n",
    "from sklearn.preprocessing import LabelEncoder\n",
    "from sklearn.model_selection import train_test_split, GridSearchCV, RepeatedKFold\n",
    "from sklearn.preprocessing import StandardScaler\n",
    "from sklearn.metrics import classification_report, accuracy_score, f1_score, recall_score, precision_score, confusion_matrix, mean_absolute_percentage_error\n",
    "\n"
   ]
  },
  {
   "cell_type": "code",
   "execution_count": 33,
   "id": "9e88783e",
   "metadata": {},
   "outputs": [],
   "source": [
    "data = pd.read_csv ('/Users/nina/Downloads/mlproject/data/Clean_Dataset.csv')\n",
    "# drop index column and check the datatype\n",
    "data = data.drop(['Unnamed: 0'], axis=1)\n"
   ]
  },
  {
   "cell_type": "code",
   "execution_count": 34,
   "id": "92ad6685",
   "metadata": {},
   "outputs": [],
   "source": [
    "# label encode three categorical columns\n",
    "le = LabelEncoder()\n",
    "data[\"airline_label\"] = le.fit_transform(data['airline'])\n",
    "data[\"source_city_label\"] = le.fit_transform(data['source_city'])\n",
    "data[\"destination_city_label\"] = le.fit_transform(data['destination_city'])"
   ]
  },
  {
   "cell_type": "code",
   "execution_count": 35,
   "id": "4b207a68",
   "metadata": {},
   "outputs": [],
   "source": [
    "# category time and stops according to sequence\n",
    "\n",
    "def time_label(value):\n",
    "    if value == \"Early_Morning\":\n",
    "        return 0\n",
    "    elif value == \"Morning\":\n",
    "        return 1\n",
    "    elif value == \"Afternoon\":\n",
    "        return 2\n",
    "    elif value == \"Evening\":\n",
    "        return 3\n",
    "    elif value == \"Night\":\n",
    "        return 4\n",
    "    elif value == \"Late_Night\":\n",
    "        return 5\n",
    "\n",
    "def stops_label(value):\n",
    "    if value == \"zero\":\n",
    "        return 0\n",
    "    elif value == \"one\":\n",
    "        return 1\n",
    "    elif value == \"two_or_more\":\n",
    "        return 2\n",
    "    \n",
    "\n",
    "data['departure_time_label'] = data['departure_time'].map(time_label)\n",
    "data['arrival_time_label'] = data['arrival_time'].map(time_label)\n",
    "data['stops_label'] = data['stops'].map(stops_label)"
   ]
  },
  {
   "cell_type": "code",
   "execution_count": 36,
   "id": "aa90cfcf",
   "metadata": {},
   "outputs": [],
   "source": [
    "# Split Dataframe using groupby()\n",
    "# grouping by economy and business class\n",
    "data['class_label'] = np.where(data['class'] == \"Economy\", True, False)\n",
    "grouped = data.groupby(data.class_label)\n",
    "economyData = grouped.get_group(True)\n",
    "economyData=economyData.drop(['class_label'],axis=1)\n",
    "data=economyData.drop(['airline', 'flight', 'source_city','departure_time','stops','arrival_time', 'destination_city','class'],axis=1)\n"
   ]
  },
  {
   "cell_type": "markdown",
   "id": "a7dc5774",
   "metadata": {},
   "source": [
    "# do standardscaler"
   ]
  },
  {
   "cell_type": "code",
   "execution_count": 37,
   "id": "0cb812ba",
   "metadata": {},
   "outputs": [],
   "source": [
    "from sklearn.linear_model import Ridge\n",
    "from sklearn.linear_model import Lasso\n",
    "from sklearn.linear_model import ElasticNet\n",
    "from sklearn.linear_model import LinearRegression\n",
    "from sklearn.linear_model import BayesianRidge\n",
    "from sklearn.svm import SVR\n",
    "from sklearn.tree import DecisionTreeRegressor\n",
    "from sklearn.ensemble import RandomForestRegressor\n",
    "from sklearn.preprocessing import StandardScaler\n",
    "\n",
    "cv = RepeatedKFold(n_splits=10, n_repeats=3, random_state=1)"
   ]
  },
  {
   "cell_type": "code",
   "execution_count": 38,
   "id": "23cd514e",
   "metadata": {},
   "outputs": [
    {
     "name": "stdout",
     "output_type": "stream",
     "text": [
      "        duration  days_left  airline_label  source_city_label  \\\n",
      "179214     12.25         35              1                  3   \n",
      "187031      9.17         46              2                  1   \n",
      "117650     13.17         27              1                  0   \n",
      "167716     12.33         23              5                  3   \n",
      "51603       2.17         44              2                  5   \n",
      "\n",
      "        destination_city_label  departure_time_label  arrival_time_label  \\\n",
      "179214                       1                     1                   4   \n",
      "187031                       2                     2                   4   \n",
      "117650                       1                     3                   0   \n",
      "167716                       0                     1                   4   \n",
      "51603                        2                     4                   4   \n",
      "\n",
      "        stops_label  \n",
      "179214            1  \n",
      "187031            1  \n",
      "117650            1  \n",
      "167716            2  \n",
      "51603             0  \n",
      "        price\n",
      "179214   4649\n",
      "187031   4827\n",
      "117650   3184\n",
      "167716   6461\n",
      "51603    2339\n"
     ]
    }
   ],
   "source": [
    "X=data.drop(['price'],axis=1)\n",
    "y=data[['price']]\n",
    "\n",
    "\n",
    "Train_X, Test_X, Train_Y, Test_Y = train_test_split(X, y, train_size=0.8, test_size=0.2, random_state = 42)\n",
    "\n",
    "print(Train_X.head())\n",
    "print(Train_Y.head())"
   ]
  },
  {
   "cell_type": "code",
   "execution_count": 41,
   "id": "b58cf774",
   "metadata": {},
   "outputs": [],
   "source": [
    "scaler = StandardScaler()\n",
    "Train_X = scaler.fit_transform(Train_X)\n",
    "Test_X = scaler.fit_transform(Test_X)\n",
    "\n",
    "rav_train_Y = np.ravel(Train_Y)\n",
    "rav_test_Y = np.ravel(Test_Y)"
   ]
  },
  {
   "cell_type": "code",
   "execution_count": 42,
   "id": "6bc342bc",
   "metadata": {},
   "outputs": [
    {
     "name": "stdout",
     "output_type": "stream",
     "text": [
      "Negative MAPE:  -0.36924663325923107\n",
      "Best param are : {'alpha': 0.99, 'max_iter': 500}\n"
     ]
    }
   ],
   "source": [
    "Ridge_model = Ridge()\n",
    "# define Ridge_grid\n",
    "Ridge_grid = dict()\n",
    "##tune alpha\n",
    "Ridge_grid['alpha'] = np.arange(0.01, 1, 0.01)\n",
    "Ridge_grid['max_iter'] = np.array([500,1000,2000])\n",
    "Ridge_search = GridSearchCV(Ridge_model, Ridge_grid, scoring='neg_mean_absolute_percentage_error', cv=cv, n_jobs=-1)\n",
    "Ridge_results = Ridge_search.fit(Train_X, Train_Y)\n",
    "print('Negative MAPE: ' , Ridge_results.best_score_)\n",
    "print('Best param are : %s' % Ridge_results.best_params_)"
   ]
  },
  {
   "cell_type": "code",
   "execution_count": 43,
   "id": "eda843ce",
   "metadata": {},
   "outputs": [
    {
     "name": "stdout",
     "output_type": "stream",
     "text": [
      "Negative MAPE:  -0.3692281473572322\n",
      "Best params are : {'alpha': 0.99, 'max_iter': 500}\n"
     ]
    }
   ],
   "source": [
    "Lasso_model = Lasso()\n",
    "# define Lasso_grid\n",
    "Lasso_grid = dict()\n",
    "##tune alpha\n",
    "Lasso_grid['alpha'] = np.arange(0.01, 1, 0.01)\n",
    "Lasso_grid['max_iter'] = np.array([500,1000,2000])\n",
    "Lasso_search = GridSearchCV(Lasso_model, Lasso_grid, scoring='neg_mean_absolute_percentage_error', cv=cv, n_jobs=-1)\n",
    "Lasso_results = Lasso_search.fit(Train_X, Train_Y)\n",
    "print('Negative MAPE: ' ,Lasso_results.best_score_)\n",
    "print('Best params are : %s' % Lasso_results.best_params_)"
   ]
  },
  {
   "cell_type": "code",
   "execution_count": 46,
   "id": "e1e456fe",
   "metadata": {},
   "outputs": [
    {
     "name": "stdout",
     "output_type": "stream",
     "text": [
      "Negative MAPE:  -0.3643543515547674\n",
      "Best params are : {'alpha': 0.33, 'max_iter': 500}\n"
     ]
    }
   ],
   "source": [
    "ElasticNet_model = ElasticNet()\n",
    "ElasticNet_cv = RepeatedKFold(n_splits=10, n_repeats=3, random_state=1)\n",
    "# define ElasticNet_grid\n",
    "ElasticNet_grid = dict()\n",
    "##tune alpha\n",
    "ElasticNet_grid['alpha'] = np.arange(0.01, 1, 0.01)\n",
    "ElasticNet_grid['max_iter'] = np.array([500,1000,2000])\n",
    "ElasticNet_search = GridSearchCV(ElasticNet_model, ElasticNet_grid, scoring='neg_mean_absolute_percentage_error', cv=cv, n_jobs=-1)\n",
    "ElasticNet_results = ElasticNet_search.fit(Train_X,Train_Y)\n",
    "print('Negative MAPE: ' , ElasticNet_results.best_score_)\n",
    "print('Best params are : %s'% ElasticNet_results.best_params_)"
   ]
  },
  {
   "cell_type": "code",
   "execution_count": 45,
   "id": "168c864f",
   "metadata": {},
   "outputs": [
    {
     "name": "stdout",
     "output_type": "stream",
     "text": [
      "Negative MAPE: -0.1682979294819324\n",
      "Best params are : {'max_depth': 25, 'max_leaf_nodes': 1000}\n"
     ]
    }
   ],
   "source": [
    "DecisionTree_model = DecisionTreeRegressor()\n",
    "DecisionTree_cv = RepeatedKFold(n_splits=10, n_repeats=3, random_state=1)\n",
    "# define DecisionTree_grid\n",
    "DecisionTree_grid = dict()\n",
    "##tune alpha\n",
    "DecisionTree_grid['max_depth'] = np.arange(5, 30, 5)\n",
    "DecisionTree_grid['max_leaf_nodes'] = np.array([10,100,1000])\n",
    "DecisionTree_search = GridSearchCV(DecisionTree_model, DecisionTree_grid, scoring='neg_mean_absolute_percentage_error', cv=cv, n_jobs=-1)\n",
    "DecisionTree_results = DecisionTree_search.fit(Train_X, Train_Y)\n",
    "print('Negative MAPE:' , DecisionTree_results.best_score_)\n",
    "print('Best params are : %s'% DecisionTree_results.best_params_)"
   ]
  },
  {
   "cell_type": "code",
   "execution_count": null,
   "id": "bd8703b3",
   "metadata": {},
   "outputs": [],
   "source": []
  },
  {
   "cell_type": "code",
   "execution_count": null,
   "id": "896b1766",
   "metadata": {},
   "outputs": [],
   "source": []
  },
  {
   "cell_type": "code",
   "execution_count": null,
   "id": "d9d3a9a9",
   "metadata": {},
   "outputs": [],
   "source": []
  }
 ],
 "metadata": {
  "kernelspec": {
   "display_name": "Python 3 (ipykernel)",
   "language": "python",
   "name": "python3"
  },
  "language_info": {
   "codemirror_mode": {
    "name": "ipython",
    "version": 3
   },
   "file_extension": ".py",
   "mimetype": "text/x-python",
   "name": "python",
   "nbconvert_exporter": "python",
   "pygments_lexer": "ipython3",
   "version": "3.9.13"
  }
 },
 "nbformat": 4,
 "nbformat_minor": 5
}
